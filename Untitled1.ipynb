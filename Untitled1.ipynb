{
 "cells": [
  {
   "cell_type": "code",
   "execution_count": 5,
   "metadata": {},
   "outputs": [
    {
     "name": "stdout",
     "output_type": "stream",
     "text": [
      "masukan nama : Rizki Ramadhan\n",
      "masukan kelas : TI22F\n",
      "masukan nim : 20220040111\n",
      "masukan jurusan : Teknik Informatika\n",
      "Hello, nama saya Rizki Ramadhan, kelas saya TI22F, nim 20220040111, jurusan Teknik Informatika \n"
     ]
    }
   ],
   "source": [
    "nama = input(\"masukan nama : \")\n",
    "kelas = input(\"masukan kelas : \")\n",
    "nim  = input(\"masukan nim : \")\n",
    "jurusan  = input(\"masukan jurusan : \")\n",
    "\n",
    "print(\"Hello, nama saya %s, kelas saya %s, nim %s, jurusan %s \" % (nama, kelas, nim, jurusan))"
   ]
  },
  {
   "cell_type": "code",
   "execution_count": 4,
   "metadata": {},
   "outputs": [
    {
     "ename": "IndentationError",
     "evalue": "unexpected indent (<ipython-input-4-cc2c89fecdce>, line 2)",
     "output_type": "error",
     "traceback": [
      "\u001b[1;36m  File \u001b[1;32m\"<ipython-input-4-cc2c89fecdce>\"\u001b[1;36m, line \u001b[1;32m2\u001b[0m\n\u001b[1;33m    a.putra nusa\u001b[0m\n\u001b[1;37m    ^\u001b[0m\n\u001b[1;31mIndentationError\u001b[0m\u001b[1;31m:\u001b[0m unexpected indent\n"
     ]
    }
   ],
   "source": [
    "\n",
    "# 2.Jika terdapat kalimat UNIVERSITAS NUSA PUTRA SUKABUMI ,buatlah kode program untuk menampilkan output:\n",
    "    a.putra nusa\n",
    "    b.NIVERSITAS NSA PTRA SKABMI\n",
    "    c.SUKABUMI PUTRA NUSA UNIVERSITAS\n",
    "    d.UNPS\n",
    "    e.TAS SAPU BUMI"
   ]
  },
  {
   "cell_type": "code",
   "execution_count": 10,
   "metadata": {},
   "outputs": [
    {
     "name": "stdout",
     "output_type": "stream",
     "text": [
      "JAWABAN OPTION A : putra nusa\n",
      "JAWABAN OPTION B : NIVERSITAS NSA PTRA  SUKABUMI\n",
      "JAWABAN OPTION C : SUKABUMI PUTRA NUSA UNIVERSITAS\n",
      "JAWABAN OPTION D : UNPS\n",
      "JAWABAN OPTION E : TAS SAPU BUMI\n"
     ]
    }
   ],
   "source": [
    "\n",
    "\n",
    "judul = \"UNIVERSITAS NUSA PUTRA SUKABUMI\"\n",
    "\n",
    "a = judul[17:22].lower()+' '+judul[12:16].lower()\n",
    "b = judul[1:11]+' '+judul[12]+judul[14:16]+' '+judul[17]+judul[19:22]+' '+judul[22:31].upper()\n",
    "c = judul[23:31]+' '+judul[17:22]+' '+judul[12:16]+' '+judul[0:11].upper()\n",
    "d = judul[0]+judul[12]+judul[17]+judul[23].upper()\n",
    "e = judul[8:11]+' '+judul[14:16]+judul[17:19]+' '+judul[27:31].upper()\n",
    "\n",
    "print(\"JAWABAN OPTION A :\", a)\n",
    "print(\"JAWABAN OPTION B :\", b)\n",
    "print(\"JAWABAN OPTION C :\", c)\n",
    "print(\"JAWABAN OPTION D :\", d)\n",
    "print(\"JAWABAN OPTION E :\", e)"
   ]
  }
 ],
 "metadata": {
  "kernelspec": {
   "display_name": "Python 3",
   "language": "python",
   "name": "python3"
  },
  "language_info": {
   "codemirror_mode": {
    "name": "ipython",
    "version": 3
   },
   "file_extension": ".py",
   "mimetype": "text/x-python",
   "name": "python",
   "nbconvert_exporter": "python",
   "pygments_lexer": "ipython3",
   "version": "3.8.5"
  }
 },
 "nbformat": 4,
 "nbformat_minor": 4
}
